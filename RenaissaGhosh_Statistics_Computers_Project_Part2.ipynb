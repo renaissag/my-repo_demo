{
 "cells": [
  {
   "cell_type": "code",
   "execution_count": 1,
   "id": "4815b586-699c-46d7-904b-bc28149bddf6",
   "metadata": {},
   "outputs": [],
   "source": [
    "import pandas as pd\n",
    "import numpy as np\n",
    "import matplotlib.pyplot as plt\n",
    "import seaborn as sns\n",
    "import statistics as st\n",
    "import scipy.stats as sts\n",
    "from scipy.stats import norm\n",
    "from scipy.stats import t"
   ]
  },
  {
   "cell_type": "code",
   "execution_count": 2,
   "id": "6f71cc32-5c0a-4ba3-9018-f5db128895e8",
   "metadata": {},
   "outputs": [
    {
     "data": {
      "text/html": [
       "<div>\n",
       "<style scoped>\n",
       "    .dataframe tbody tr th:only-of-type {\n",
       "        vertical-align: middle;\n",
       "    }\n",
       "\n",
       "    .dataframe tbody tr th {\n",
       "        vertical-align: top;\n",
       "    }\n",
       "\n",
       "    .dataframe thead th {\n",
       "        text-align: right;\n",
       "    }\n",
       "</style>\n",
       "<table border=\"1\" class=\"dataframe\">\n",
       "  <thead>\n",
       "    <tr style=\"text-align: right;\">\n",
       "      <th></th>\n",
       "      <th>index</th>\n",
       "      <th>price</th>\n",
       "      <th>speed</th>\n",
       "      <th>hd</th>\n",
       "      <th>ram</th>\n",
       "      <th>screen</th>\n",
       "      <th>cd</th>\n",
       "      <th>multi</th>\n",
       "      <th>premium</th>\n",
       "      <th>ads_2022</th>\n",
       "      <th>ads_2023</th>\n",
       "      <th>trend</th>\n",
       "    </tr>\n",
       "  </thead>\n",
       "  <tbody>\n",
       "    <tr>\n",
       "      <th>0</th>\n",
       "      <td>1</td>\n",
       "      <td>1499</td>\n",
       "      <td>25</td>\n",
       "      <td>80</td>\n",
       "      <td>4</td>\n",
       "      <td>14</td>\n",
       "      <td>no</td>\n",
       "      <td>no</td>\n",
       "      <td>yes</td>\n",
       "      <td>94</td>\n",
       "      <td>94</td>\n",
       "      <td>1</td>\n",
       "    </tr>\n",
       "    <tr>\n",
       "      <th>1</th>\n",
       "      <td>2</td>\n",
       "      <td>1795</td>\n",
       "      <td>33</td>\n",
       "      <td>85</td>\n",
       "      <td>2</td>\n",
       "      <td>14</td>\n",
       "      <td>no</td>\n",
       "      <td>no</td>\n",
       "      <td>yes</td>\n",
       "      <td>94</td>\n",
       "      <td>94</td>\n",
       "      <td>1</td>\n",
       "    </tr>\n",
       "    <tr>\n",
       "      <th>2</th>\n",
       "      <td>3</td>\n",
       "      <td>1595</td>\n",
       "      <td>25</td>\n",
       "      <td>170</td>\n",
       "      <td>4</td>\n",
       "      <td>15</td>\n",
       "      <td>no</td>\n",
       "      <td>no</td>\n",
       "      <td>yes</td>\n",
       "      <td>94</td>\n",
       "      <td>94</td>\n",
       "      <td>1</td>\n",
       "    </tr>\n",
       "    <tr>\n",
       "      <th>3</th>\n",
       "      <td>4</td>\n",
       "      <td>1849</td>\n",
       "      <td>25</td>\n",
       "      <td>170</td>\n",
       "      <td>8</td>\n",
       "      <td>14</td>\n",
       "      <td>no</td>\n",
       "      <td>no</td>\n",
       "      <td>no</td>\n",
       "      <td>94</td>\n",
       "      <td>94</td>\n",
       "      <td>1</td>\n",
       "    </tr>\n",
       "    <tr>\n",
       "      <th>4</th>\n",
       "      <td>5</td>\n",
       "      <td>3295</td>\n",
       "      <td>33</td>\n",
       "      <td>340</td>\n",
       "      <td>16</td>\n",
       "      <td>14</td>\n",
       "      <td>no</td>\n",
       "      <td>no</td>\n",
       "      <td>yes</td>\n",
       "      <td>94</td>\n",
       "      <td>104</td>\n",
       "      <td>1</td>\n",
       "    </tr>\n",
       "    <tr>\n",
       "      <th>...</th>\n",
       "      <td>...</td>\n",
       "      <td>...</td>\n",
       "      <td>...</td>\n",
       "      <td>...</td>\n",
       "      <td>...</td>\n",
       "      <td>...</td>\n",
       "      <td>...</td>\n",
       "      <td>...</td>\n",
       "      <td>...</td>\n",
       "      <td>...</td>\n",
       "      <td>...</td>\n",
       "      <td>...</td>\n",
       "    </tr>\n",
       "    <tr>\n",
       "      <th>6254</th>\n",
       "      <td>6255</td>\n",
       "      <td>1690</td>\n",
       "      <td>100</td>\n",
       "      <td>528</td>\n",
       "      <td>8</td>\n",
       "      <td>15</td>\n",
       "      <td>no</td>\n",
       "      <td>no</td>\n",
       "      <td>yes</td>\n",
       "      <td>39</td>\n",
       "      <td>70</td>\n",
       "      <td>35</td>\n",
       "    </tr>\n",
       "    <tr>\n",
       "      <th>6255</th>\n",
       "      <td>6256</td>\n",
       "      <td>2223</td>\n",
       "      <td>66</td>\n",
       "      <td>850</td>\n",
       "      <td>16</td>\n",
       "      <td>15</td>\n",
       "      <td>yes</td>\n",
       "      <td>yes</td>\n",
       "      <td>yes</td>\n",
       "      <td>39</td>\n",
       "      <td>70</td>\n",
       "      <td>35</td>\n",
       "    </tr>\n",
       "    <tr>\n",
       "      <th>6256</th>\n",
       "      <td>6257</td>\n",
       "      <td>2654</td>\n",
       "      <td>100</td>\n",
       "      <td>1200</td>\n",
       "      <td>24</td>\n",
       "      <td>15</td>\n",
       "      <td>yes</td>\n",
       "      <td>no</td>\n",
       "      <td>yes</td>\n",
       "      <td>39</td>\n",
       "      <td>70</td>\n",
       "      <td>35</td>\n",
       "    </tr>\n",
       "    <tr>\n",
       "      <th>6257</th>\n",
       "      <td>6258</td>\n",
       "      <td>2195</td>\n",
       "      <td>100</td>\n",
       "      <td>850</td>\n",
       "      <td>16</td>\n",
       "      <td>15</td>\n",
       "      <td>yes</td>\n",
       "      <td>no</td>\n",
       "      <td>yes</td>\n",
       "      <td>39</td>\n",
       "      <td>70</td>\n",
       "      <td>35</td>\n",
       "    </tr>\n",
       "    <tr>\n",
       "      <th>6258</th>\n",
       "      <td>6259</td>\n",
       "      <td>2490</td>\n",
       "      <td>100</td>\n",
       "      <td>850</td>\n",
       "      <td>16</td>\n",
       "      <td>17</td>\n",
       "      <td>yes</td>\n",
       "      <td>no</td>\n",
       "      <td>yes</td>\n",
       "      <td>39</td>\n",
       "      <td>70</td>\n",
       "      <td>35</td>\n",
       "    </tr>\n",
       "  </tbody>\n",
       "</table>\n",
       "<p>6259 rows × 12 columns</p>\n",
       "</div>"
      ],
      "text/plain": [
       "      index  price  speed    hd  ram  screen   cd multi premium  ads_2022  \\\n",
       "0         1   1499     25    80    4      14   no    no     yes        94   \n",
       "1         2   1795     33    85    2      14   no    no     yes        94   \n",
       "2         3   1595     25   170    4      15   no    no     yes        94   \n",
       "3         4   1849     25   170    8      14   no    no      no        94   \n",
       "4         5   3295     33   340   16      14   no    no     yes        94   \n",
       "...     ...    ...    ...   ...  ...     ...  ...   ...     ...       ...   \n",
       "6254   6255   1690    100   528    8      15   no    no     yes        39   \n",
       "6255   6256   2223     66   850   16      15  yes   yes     yes        39   \n",
       "6256   6257   2654    100  1200   24      15  yes    no     yes        39   \n",
       "6257   6258   2195    100   850   16      15  yes    no     yes        39   \n",
       "6258   6259   2490    100   850   16      17  yes    no     yes        39   \n",
       "\n",
       "      ads_2023  trend  \n",
       "0           94      1  \n",
       "1           94      1  \n",
       "2           94      1  \n",
       "3           94      1  \n",
       "4          104      1  \n",
       "...        ...    ...  \n",
       "6254        70     35  \n",
       "6255        70     35  \n",
       "6256        70     35  \n",
       "6257        70     35  \n",
       "6258        70     35  \n",
       "\n",
       "[6259 rows x 12 columns]"
      ]
     },
     "execution_count": 2,
     "metadata": {},
     "output_type": "execute_result"
    }
   ],
   "source": [
    "data = pd.read_csv(r'C:\\Users\\rathi\\course8-Renaissa\\DS1_C8_Computers_Data_Project.csv')\n",
    "data"
   ]
  },
  {
   "cell_type": "code",
   "execution_count": 3,
   "id": "0d0d0897-a1e9-47c4-a0d2-d99b96e1dbf6",
   "metadata": {},
   "outputs": [],
   "source": [
    "# Task 1: Stating null and alternate hypotheses\n",
    "# The analysis refers to the population, not the sample. So, we use the population mean (mu).\n",
    "# H_0: mu <= 221.3, where n = 40.\n",
    "# H_a: mu > 221.3, where n = 40.\n",
    "# Sample size (n = 40) is greater than 30, so we use z-test.\n",
    "# One-sampled one-sided right-tailed z-test is to be performed."
   ]
  },
  {
   "cell_type": "code",
   "execution_count": 4,
   "id": "cecb1225-f15e-43d1-9dfa-5b4f8def444c",
   "metadata": {},
   "outputs": [
    {
     "name": "stdout",
     "output_type": "stream",
     "text": [
      "1.6448536269514722\n"
     ]
    }
   ],
   "source": [
    "# Task 1: Calculating the z-critical value\n",
    "t_alpha = 0.05  #Alpha is 0.05 since it is a one-tailed z-test.\n",
    "t_z_critical = norm.ppf(1 - t_alpha)\n",
    "print(t_z_critical)"
   ]
  },
  {
   "cell_type": "code",
   "execution_count": 5,
   "id": "51e7ca11-95ac-405f-9c5a-8c3ce843658c",
   "metadata": {},
   "outputs": [
    {
     "name": "stdout",
     "output_type": "stream",
     "text": [
      "0.07606708256451877\n"
     ]
    }
   ],
   "source": [
    "# Task 1: A one-sample z-test is used for the hypothesis test.\n",
    "t_pop_mean = 221.3\n",
    "t_samp_mean = 222.2\n",
    "t_pop_std = 74.83\n",
    "t_samp_size = 40\n",
    "t_z_stats = (t_samp_mean - t_pop_mean) / (t_pop_std / t_samp_size**0.5)  # Calculating the z-statistic value\n",
    "print(t_z_stats)"
   ]
  },
  {
   "cell_type": "code",
   "execution_count": 6,
   "id": "f45a844d-24cd-48fe-bc94-dd4ae0b351f3",
   "metadata": {},
   "outputs": [
    {
     "name": "stdout",
     "output_type": "stream",
     "text": [
      "0.4696828642738865\n"
     ]
    }
   ],
   "source": [
    "# Task 1: Calculating the p-value\n",
    "t_p_value = norm.sf(abs(t_z_stats))\n",
    "print(t_p_value)"
   ]
  },
  {
   "cell_type": "code",
   "execution_count": 7,
   "id": "86610ee4-fafa-413d-b609-48195bfc8e00",
   "metadata": {},
   "outputs": [
    {
     "name": "stdout",
     "output_type": "stream",
     "text": [
      "True\n",
      "True\n",
      "Conclusion: Since p-value > alpha and z-statistic < z-critical in a one-tailed z-test, we accept the null hypothesis.\n",
      "Business Conclusion: The statistical analysis indicates that the 2023 advertising budget is not significantly higher than the 2022 budget, so the company should not assume an increase.\n"
     ]
    }
   ],
   "source": [
    "# Task 1: Draw a conclusion to determine whether we accept or reject the null hypothesis (Check the conditions)\n",
    "print(t_p_value > t_alpha)\n",
    "print(t_z_stats < t_z_critical)\n",
    "print(\"Conclusion: Since p-value > alpha and z-statistic < z-critical in a one-tailed z-test, we accept the null hypothesis.\")\n",
    "print(\"Business Conclusion: The statistical analysis indicates that the 2023 advertising budget is not significantly higher than the 2022 budget, so the company should not assume an increase.\")"
   ]
  },
  {
   "cell_type": "code",
   "execution_count": 8,
   "id": "6a391730-2ff0-4e83-9d8c-582b8111b03c",
   "metadata": {},
   "outputs": [
    {
     "name": "stdout",
     "output_type": "stream",
     "text": [
      "[-7.8020e+01 -7.7020e+01 -7.6020e+01 -7.5020e+01 -7.4020e+01 -7.3020e+01\n",
      " -7.2020e+01 -7.1020e+01 -7.0020e+01 -6.9020e+01 -6.8020e+01 -6.7020e+01\n",
      " -6.6020e+01 -6.5020e+01 -6.4020e+01 -6.3020e+01 -6.2020e+01 -6.1020e+01\n",
      " -6.0020e+01 -5.9020e+01 -5.8020e+01 -5.7020e+01 -5.6020e+01 -5.5020e+01\n",
      " -5.4020e+01 -5.3020e+01 -5.2020e+01 -5.1020e+01 -5.0020e+01 -4.9020e+01\n",
      " -4.8020e+01 -4.7020e+01 -4.6020e+01 -4.5020e+01 -4.4020e+01 -4.3020e+01\n",
      " -4.2020e+01 -4.1020e+01 -4.0020e+01 -3.9020e+01 -3.8020e+01 -3.7020e+01\n",
      " -3.6020e+01 -3.5020e+01 -3.4020e+01 -3.3020e+01 -3.2020e+01 -3.1020e+01\n",
      " -3.0020e+01 -2.9020e+01 -2.8020e+01 -2.7020e+01 -2.6020e+01 -2.5020e+01\n",
      " -2.4020e+01 -2.3020e+01 -2.2020e+01 -2.1020e+01 -2.0020e+01 -1.9020e+01\n",
      " -1.8020e+01 -1.7020e+01 -1.6020e+01 -1.5020e+01 -1.4020e+01 -1.3020e+01\n",
      " -1.2020e+01 -1.1020e+01 -1.0020e+01 -9.0200e+00 -8.0200e+00 -7.0200e+00\n",
      " -6.0200e+00 -5.0200e+00 -4.0200e+00 -3.0200e+00 -2.0200e+00 -1.0200e+00\n",
      " -2.0000e-02  9.8000e-01  1.9800e+00  2.9800e+00  3.9800e+00  4.9800e+00\n",
      "  5.9800e+00  6.9800e+00  7.9800e+00  8.9800e+00  9.9800e+00  1.0980e+01\n",
      "  1.1980e+01  1.2980e+01  1.3980e+01  1.4980e+01  1.5980e+01  1.6980e+01\n",
      "  1.7980e+01  1.8980e+01  1.9980e+01  2.0980e+01  2.1980e+01  2.2980e+01\n",
      "  2.3980e+01  2.4980e+01  2.5980e+01  2.6980e+01  2.7980e+01  2.8980e+01\n",
      "  2.9980e+01  3.0980e+01  3.1980e+01  3.2980e+01  3.3980e+01  3.4980e+01\n",
      "  3.5980e+01  3.6980e+01  3.7980e+01  3.8980e+01  3.9980e+01  4.0980e+01\n",
      "  4.1980e+01  4.2980e+01  4.3980e+01  4.4980e+01  4.5980e+01  4.6980e+01\n",
      "  4.7980e+01  4.8980e+01  4.9980e+01  5.0980e+01  5.1980e+01  5.2980e+01\n",
      "  5.3980e+01  5.4980e+01  5.5980e+01  5.6980e+01  5.7980e+01  5.8980e+01\n",
      "  5.9980e+01  6.0980e+01  6.1980e+01  6.2980e+01  6.3980e+01  6.4980e+01\n",
      "  6.5980e+01  6.6980e+01  6.7980e+01  6.8980e+01  6.9980e+01  7.0980e+01\n",
      "  7.1980e+01  7.2980e+01  7.3980e+01  7.4980e+01  7.5980e+01  7.6980e+01\n",
      "  7.7980e+01  7.8980e+01  7.9980e+01  8.0980e+01  8.1980e+01  8.2980e+01\n",
      "  8.3980e+01  8.4980e+01  8.5980e+01  8.6980e+01  8.7980e+01  8.8980e+01\n",
      "  8.9980e+01  9.0980e+01  9.1980e+01  9.2980e+01  9.3980e+01  9.4980e+01\n",
      "  9.5980e+01  9.6980e+01  9.7980e+01  9.8980e+01  9.9980e+01  1.0098e+02\n",
      "  1.0198e+02  1.0298e+02  1.0398e+02  1.0498e+02  1.0598e+02  1.0698e+02\n",
      "  1.0798e+02  1.0898e+02  1.0998e+02  1.1098e+02  1.1198e+02  1.1298e+02\n",
      "  1.1398e+02  1.1498e+02  1.1598e+02  1.1698e+02  1.1798e+02  1.1898e+02\n",
      "  1.1998e+02  1.2098e+02  1.2198e+02  1.2298e+02  1.2398e+02  1.2498e+02\n",
      "  1.2598e+02  1.2698e+02  1.2798e+02  1.2898e+02  1.2998e+02  1.3098e+02\n",
      "  1.3198e+02  1.3298e+02  1.3398e+02  1.3498e+02  1.3598e+02  1.3698e+02\n",
      "  1.3798e+02  1.3898e+02  1.3998e+02  1.4098e+02  1.4198e+02  1.4298e+02\n",
      "  1.4398e+02  1.4498e+02  1.4598e+02  1.4698e+02  1.4798e+02  1.4898e+02\n",
      "  1.4998e+02  1.5098e+02  1.5198e+02  1.5298e+02  1.5398e+02  1.5498e+02\n",
      "  1.5598e+02  1.5698e+02  1.5798e+02  1.5898e+02  1.5998e+02  1.6098e+02\n",
      "  1.6198e+02  1.6298e+02  1.6398e+02  1.6498e+02  1.6598e+02  1.6698e+02\n",
      "  1.6798e+02  1.6898e+02  1.6998e+02  1.7098e+02  1.7198e+02  1.7298e+02\n",
      "  1.7398e+02  1.7498e+02  1.7598e+02  1.7698e+02  1.7798e+02  1.7898e+02\n",
      "  1.7998e+02  1.8098e+02  1.8198e+02  1.8298e+02  1.8398e+02  1.8498e+02\n",
      "  1.8598e+02  1.8698e+02  1.8798e+02  1.8898e+02  1.8998e+02  1.9098e+02\n",
      "  1.9198e+02  1.9298e+02  1.9398e+02  1.9498e+02  1.9598e+02  1.9698e+02\n",
      "  1.9798e+02  1.9898e+02  1.9998e+02  2.0098e+02  2.0198e+02  2.0298e+02\n",
      "  2.0398e+02  2.0498e+02  2.0598e+02  2.0698e+02  2.0798e+02  2.0898e+02\n",
      "  2.0998e+02  2.1098e+02  2.1198e+02  2.1298e+02  2.1398e+02  2.1498e+02\n",
      "  2.1598e+02  2.1698e+02  2.1798e+02  2.1898e+02  2.1998e+02  2.2098e+02\n",
      "  2.2198e+02  2.2298e+02  2.2398e+02  2.2498e+02  2.2598e+02  2.2698e+02\n",
      "  2.2798e+02  2.2898e+02  2.2998e+02  2.3098e+02  2.3198e+02  2.3298e+02\n",
      "  2.3398e+02  2.3498e+02  2.3598e+02  2.3698e+02  2.3798e+02  2.3898e+02\n",
      "  2.3998e+02  2.4098e+02  2.4198e+02  2.4298e+02  2.4398e+02  2.4498e+02\n",
      "  2.4598e+02  2.4698e+02  2.4798e+02  2.4898e+02  2.4998e+02  2.5098e+02\n",
      "  2.5198e+02  2.5298e+02  2.5398e+02  2.5498e+02  2.5598e+02  2.5698e+02\n",
      "  2.5798e+02  2.5898e+02  2.5998e+02  2.6098e+02  2.6198e+02  2.6298e+02\n",
      "  2.6398e+02  2.6498e+02  2.6598e+02  2.6698e+02  2.6798e+02  2.6898e+02\n",
      "  2.6998e+02  2.7098e+02  2.7198e+02  2.7298e+02  2.7398e+02  2.7498e+02\n",
      "  2.7598e+02  2.7698e+02  2.7798e+02  2.7898e+02  2.7998e+02  2.8098e+02\n",
      "  2.8198e+02  2.8298e+02  2.8398e+02  2.8498e+02  2.8598e+02  2.8698e+02\n",
      "  2.8798e+02  2.8898e+02  2.8998e+02  2.9098e+02  2.9198e+02  2.9298e+02\n",
      "  2.9398e+02  2.9498e+02  2.9598e+02  2.9698e+02  2.9798e+02  2.9898e+02\n",
      "  2.9998e+02  3.0098e+02  3.0198e+02  3.0298e+02  3.0398e+02  3.0498e+02\n",
      "  3.0598e+02  3.0698e+02  3.0798e+02  3.0898e+02  3.0998e+02  3.1098e+02\n",
      "  3.1198e+02  3.1298e+02  3.1398e+02  3.1498e+02  3.1598e+02  3.1698e+02\n",
      "  3.1798e+02  3.1898e+02  3.1998e+02  3.2098e+02  3.2198e+02  3.2298e+02\n",
      "  3.2398e+02  3.2498e+02  3.2598e+02  3.2698e+02  3.2798e+02  3.2898e+02\n",
      "  3.2998e+02  3.3098e+02  3.3198e+02  3.3298e+02  3.3398e+02  3.3498e+02\n",
      "  3.3598e+02  3.3698e+02  3.3798e+02  3.3898e+02  3.3998e+02  3.4098e+02\n",
      "  3.4198e+02  3.4298e+02  3.4398e+02  3.4498e+02  3.4598e+02  3.4698e+02\n",
      "  3.4798e+02  3.4898e+02  3.4998e+02  3.5098e+02  3.5198e+02  3.5298e+02\n",
      "  3.5398e+02  3.5498e+02  3.5598e+02  3.5698e+02  3.5798e+02  3.5898e+02\n",
      "  3.5998e+02  3.6098e+02  3.6198e+02  3.6298e+02  3.6398e+02  3.6498e+02\n",
      "  3.6598e+02  3.6698e+02  3.6798e+02  3.6898e+02  3.6998e+02  3.7098e+02\n",
      "  3.7198e+02  3.7298e+02  3.7398e+02  3.7498e+02  3.7598e+02  3.7698e+02\n",
      "  3.7798e+02  3.7898e+02  3.7998e+02  3.8098e+02  3.8198e+02  3.8298e+02\n",
      "  3.8398e+02  3.8498e+02  3.8598e+02  3.8698e+02  3.8798e+02  3.8898e+02\n",
      "  3.8998e+02  3.9098e+02  3.9198e+02  3.9298e+02  3.9398e+02  3.9498e+02\n",
      "  3.9598e+02  3.9698e+02  3.9798e+02  3.9898e+02  3.9998e+02  4.0098e+02\n",
      "  4.0198e+02  4.0298e+02  4.0398e+02  4.0498e+02  4.0598e+02  4.0698e+02\n",
      "  4.0798e+02  4.0898e+02  4.0998e+02  4.1098e+02  4.1198e+02  4.1298e+02\n",
      "  4.1398e+02  4.1498e+02  4.1598e+02  4.1698e+02  4.1798e+02  4.1898e+02\n",
      "  4.1998e+02  4.2098e+02  4.2198e+02  4.2298e+02  4.2398e+02  4.2498e+02\n",
      "  4.2598e+02  4.2698e+02  4.2798e+02  4.2898e+02  4.2998e+02  4.3098e+02\n",
      "  4.3198e+02  4.3298e+02  4.3398e+02  4.3498e+02  4.3598e+02  4.3698e+02\n",
      "  4.3798e+02  4.3898e+02  4.3998e+02  4.4098e+02  4.4198e+02  4.4298e+02\n",
      "  4.4398e+02  4.4498e+02  4.4598e+02  4.4698e+02  4.4798e+02  4.4898e+02\n",
      "  4.4998e+02  4.5098e+02  4.5198e+02  4.5298e+02  4.5398e+02  4.5498e+02\n",
      "  4.5598e+02  4.5698e+02  4.5798e+02  4.5898e+02  4.5998e+02  4.6098e+02\n",
      "  4.6198e+02  4.6298e+02  4.6398e+02  4.6498e+02  4.6598e+02  4.6698e+02\n",
      "  4.6798e+02  4.6898e+02  4.6998e+02  4.7098e+02  4.7198e+02  4.7298e+02\n",
      "  4.7398e+02  4.7498e+02  4.7598e+02  4.7698e+02  4.7798e+02  4.7898e+02\n",
      "  4.7998e+02  4.8098e+02  4.8198e+02  4.8298e+02  4.8398e+02  4.8498e+02\n",
      "  4.8598e+02  4.8698e+02  4.8798e+02  4.8898e+02  4.8998e+02  4.9098e+02\n",
      "  4.9198e+02  4.9298e+02  4.9398e+02  4.9498e+02  4.9598e+02  4.9698e+02\n",
      "  4.9798e+02  4.9898e+02  4.9998e+02  5.0098e+02  5.0198e+02  5.0298e+02\n",
      "  5.0398e+02  5.0498e+02  5.0598e+02  5.0698e+02  5.0798e+02  5.0898e+02\n",
      "  5.0998e+02  5.1098e+02  5.1198e+02  5.1298e+02  5.1398e+02  5.1498e+02\n",
      "  5.1598e+02  5.1698e+02  5.1798e+02  5.1898e+02  5.1998e+02]\n"
     ]
    },
    {
     "data": {
      "image/png": "[encoded data removed]",
      "text/plain": [
       "<Figure size 640x480 with 1 Axes>"
      ]
     },
     "metadata": {},
     "output_type": "display_data"
    }
   ],
   "source": [
    "# Task 1: Range calculation\n",
    "\n",
    "t_lower_val = t_pop_mean - (4 * t_pop_std)\n",
    "t_upper_val = t_pop_mean + (4 * t_pop_std)\n",
    "t_x = np.arange(t_lower_val, t_upper_val)  # Calculating the range\n",
    "\n",
    "# Plotting the distribution curve\n",
    "print(t_x)\n",
    "plt.title(\"Population Distribution Curve\")\n",
    "plt.plot(t_x, norm.pdf(t_x, t_pop_mean, t_pop_std));"
   ]
  },
  {
   "cell_type": "code",
   "execution_count": 9,
   "id": "ef47dc0e-d1d2-4eed-b4f2-12dbe8cad96f",
   "metadata": {},
   "outputs": [],
   "source": [
    "# Task 2: Stating null and alternate hypotheses\n",
    "# The analysis refers to the population, not the sample. So, we use the population mean (mu).\n",
    "# H_0: mu1 = mu2\n",
    "# H_a: mu1 != mu2\n",
    "# 2-sampled two-tailed z-test is to be performed."
   ]
  },
  {
   "cell_type": "code",
   "execution_count": 10,
   "id": "d98fba74-240f-41f1-9f04-068b9e36ed29",
   "metadata": {},
   "outputs": [
    {
     "name": "stdout",
     "output_type": "stream",
     "text": [
      "2908\n",
      "3351\n"
     ]
    }
   ],
   "source": [
    "# Task 2: Finding the number of computers that have a CD and do not have a CD\n",
    "cd_alpha = 0.05\n",
    "n_cd_yes = len(data[data[\"cd\"] == \"yes\"])\n",
    "print(n_cd_yes)\n",
    "n_cd_no = len(data[data[\"cd\"] == \"no\"])\n",
    "print(n_cd_no)"
   ]
  },
  {
   "cell_type": "code",
   "execution_count": 11,
   "id": "d2a04093-0fc0-44f3-bb00-3fb314937e66",
   "metadata": {},
   "outputs": [
    {
     "name": "stdout",
     "output_type": "stream",
     "text": [
      "2342.6055708390645\n",
      "2112.8119964189796\n"
     ]
    }
   ],
   "source": [
    "# Task 2: Calculating the sample mean of computers that have a CD and do not have a CD\n",
    "data_cd_yes_filter = data[data[\"cd\"] == \"yes\"]\n",
    "cd_yes_samp_mean = data_cd_yes_filter[\"price\"].mean()\n",
    "print(cd_yes_samp_mean)\n",
    "data_cd_no_filter = data[data[\"cd\"] == \"no\"]\n",
    "cd_no_samp_mean = data_cd_no_filter[\"price\"].mean()\n",
    "print(cd_no_samp_mean)"
   ]
  },
  {
   "cell_type": "code",
   "execution_count": 12,
   "id": "db70e9ee-ffc4-4f0d-8219-6f6a3f3bbd53",
   "metadata": {},
   "outputs": [
    {
     "name": "stdout",
     "output_type": "stream",
     "text": [
      "278201.1732334854\n",
      "364205.29419634194\n"
     ]
    }
   ],
   "source": [
    "# Task 2: Calculating the sample variance of computers that have a CD and do not have a CD\n",
    "cd_yes_samp_var = data_cd_yes_filter[\"price\"].std()**2  #sigma**2\n",
    "print(cd_yes_samp_var)\n",
    "cd_no_samp_var = data_cd_no_filter[\"price\"].std()**2\n",
    "print(cd_no_samp_var)"
   ]
  },
  {
   "cell_type": "code",
   "execution_count": 13,
   "id": "5c404314-8d1b-430c-8adf-64be919fef8e",
   "metadata": {},
   "outputs": [],
   "source": [
    "# Task 2: Population average is not given, but we know that two samples belong to the sample population.\n",
    "# mu1 - mu2 = 0"
   ]
  },
  {
   "cell_type": "code",
   "execution_count": 14,
   "id": "d8657148-e6a0-42ee-90b3-42f1442de0e1",
   "metadata": {},
   "outputs": [
    {
     "name": "stdout",
     "output_type": "stream",
     "text": [
      "16.074863103068537\n"
     ]
    }
   ],
   "source": [
    "# Task 2: Calculating the z-statistic\n",
    "cd_z_stats = ((cd_yes_samp_mean - cd_no_samp_mean) - 0) / ((cd_yes_samp_var / n_cd_yes) + (cd_no_samp_var / n_cd_no))**0.5\n",
    "print(cd_z_stats)"
   ]
  },
  {
   "cell_type": "code",
   "execution_count": 15,
   "id": "7660e13c-c09f-4188-9281-4590a2b389d5",
   "metadata": {},
   "outputs": [
    {
     "data": {
      "text/plain": [
       "1.6448536269514722"
      ]
     },
     "execution_count": 15,
     "metadata": {},
     "output_type": "execute_result"
    }
   ],
   "source": [
    "# Task 2: Calculating the z-critical value\n",
    "cd_z_crit = norm.ppf(1 - cd_alpha)\n",
    "cd_z_crit"
   ]
  },
  {
   "cell_type": "code",
   "execution_count": 16,
   "id": "4d092432-2587-41c2-b300-afd5028a64ba",
   "metadata": {},
   "outputs": [
    {
     "data": {
      "text/plain": [
       "1.914190868146235e-58"
      ]
     },
     "execution_count": 16,
     "metadata": {},
     "output_type": "execute_result"
    }
   ],
   "source": [
    "# Task 2: Calculating the p-value\n",
    "cd_p_value = norm.sf(abs(cd_z_stats))\n",
    "cd_p_value"
   ]
  },
  {
   "cell_type": "code",
   "execution_count": 17,
   "id": "34322f60-3217-4828-976c-cfe1988ff721",
   "metadata": {},
   "outputs": [
    {
     "name": "stdout",
     "output_type": "stream",
     "text": [
      "True\n",
      "True\n",
      "Conclusion: We reject the null hypothesis.\n",
      "Business Conclusion: There is a statistically significant difference in the average price of computers with CD players and computers without CD players.\n"
     ]
    }
   ],
   "source": [
    "# Task 2: Draw a conclusion to determine whether we accept or reject the null hypothesis (Check the conditions)\n",
    "print(cd_p_value < cd_alpha)\n",
    "print(cd_z_stats > cd_z_crit)\n",
    "print(\"Conclusion: We reject the null hypothesis.\")\n",
    "print(\"Business Conclusion: There is a statistically significant difference in the average price of computers with CD players and computers without CD players.\")"
   ]
  },
  {
   "cell_type": "code",
   "execution_count": 18,
   "id": "6b4ac7fa-28fc-4cac-af27-933127bf141c",
   "metadata": {},
   "outputs": [],
   "source": [
    "# Task 3(a): Stating null and alternate hypotheses\n",
    "# The analysis refers to the population, not the sample. So, we use the population mean (mu).\n",
    "# H_0: mu = 2200, where n = 25.\n",
    "# H_a: mu != 2200, where n = 25.\n",
    "# Since the sample size (n = 25) is less than 30, t-test is used.\n",
    "# One-sampled two-tailed t-test is used."
   ]
  },
  {
   "cell_type": "code",
   "execution_count": 19,
   "id": "8a1aa72c-c7fb-4c0e-b9cf-cae8e45c55df",
   "metadata": {},
   "outputs": [
    {
     "name": "stdout",
     "output_type": "stream",
     "text": [
      "5647\n",
      "5646\n",
      "1.960384241575421\n"
     ]
    }
   ],
   "source": [
    "# Task 3(a): Calculating the critical value\n",
    "data_prem_yes_filter = data[data[\"premium\"] == \"yes\"]\n",
    "n = len(data_prem_yes_filter)  # Calculating the sample size\n",
    "print(n)\n",
    "dof1 = n - 1  # Calculating degrees of freedom\n",
    "print(dof1)\n",
    "alpha2 = 0.05\n",
    "cd_prem_t_critical = t.ppf((1 - alpha2/2), dof1)  # Calculating the t-critical value - Since it is a two-tailed t-test, alpha ('alpha2') will be divided by 2; Positive t-critical value → upper bound for rejection region.\n",
    "print(cd_prem_t_critical)"
   ]
  },
  {
   "cell_type": "code",
   "execution_count": 20,
   "id": "6f3b1520-3a05-4754-8a73-e88a705d7de7",
   "metadata": {},
   "outputs": [
    {
     "name": "stdout",
     "output_type": "stream",
     "text": [
      "2204.148397379139\n",
      "570.4449058900096\n",
      "0.5464815937207873\n",
      "0.5847565311400216\n"
     ]
    }
   ],
   "source": [
    "# Task 3(a):  Calculating the test statistic value and p-value\n",
    "p_mean = 2200  # Calculating the population mean\n",
    "s_mean = st.mean(data_prem_yes_filter[\"price\"])  # Calculating the sample mean\n",
    "print(s_mean)\n",
    "s_std = st.stdev(data_prem_yes_filter[\"price\"])  # Calculating the sample standard deviation\n",
    "print(s_std)\n",
    "cd_prem_t_statistics = (s_mean - p_mean) / (s_std / (n**0.5))  # Calculating the test statistic (t-statistic) value\n",
    "print(cd_prem_t_statistics)\n",
    "cd_prem_p_value = t.sf(abs(cd_prem_t_statistics), dof1)*2  # Calculating the p-value - Since it is a two-tailed t-test, p-value will be multiplied by 2.\n",
    "print(cd_prem_p_value)"
   ]
  },
  {
   "cell_type": "code",
   "execution_count": 21,
   "id": "0d80b495-a54b-451e-8c4d-a5cdbd7d9a88",
   "metadata": {},
   "outputs": [
    {
     "name": "stdout",
     "output_type": "stream",
     "text": [
      "True\n",
      "False\n",
      "False\n",
      "Conclusion: We accept the null hypothesis.\n",
      "Business Conclusion: The mean price of premium computers differs significantly from $2200.\n"
     ]
    }
   ],
   "source": [
    "# Task 3(a): Draw a conclusion to determine whether we accept or reject the null hypothesis (Check the conditions)\n",
    "print(cd_prem_p_value > alpha2)\n",
    "print(-cd_prem_t_critical > cd_prem_t_statistics)\n",
    "print(cd_prem_t_statistics > cd_prem_t_critical)\n",
    "print(\"Conclusion: We accept the null hypothesis.\")\n",
    "print(\"Business Conclusion: The mean price of premium computers differs significantly from $2200.\")"
   ]
  },
  {
   "cell_type": "code",
   "execution_count": 22,
   "id": "1bda2489-9e07-48aa-a74f-18f0e6326cf5",
   "metadata": {},
   "outputs": [
    {
     "name": "stdout",
     "output_type": "stream",
     "text": [
      "5647\n",
      "612\n"
     ]
    }
   ],
   "source": [
    "# Task 3(b): Stating null and alternate hypotheses & determining the type of test to use\n",
    "# The analysis refers to the population, not the sample. So, we use the population mean (mu).\n",
    "# H_0: mu1 = mu2\n",
    "# H_a: mu1 != mu2\n",
    "prem_comp_alpha = 0.05\n",
    "data_prem_yes_filter = data[data[\"premium\"] == \"yes\"]\n",
    "n1 = len(data_prem_yes_filter)\n",
    "print(n1)\n",
    "data_prem_no_filter = data[data[\"premium\"] == \"no\"]\n",
    "n2 = len(data_prem_no_filter)\n",
    "print(n2)\n",
    "# Since the sample sizes (n1 = 5647 & n2 = 612) are more than 30, a z-test is used.\n",
    "# Two-sample two-tailed z-test is used."
   ]
  },
  {
   "cell_type": "code",
   "execution_count": 23,
   "id": "6a68210a-ab8f-4ce1-ab03-d68a957cced4",
   "metadata": {},
   "outputs": [
    {
     "name": "stdout",
     "output_type": "stream",
     "text": [
      "2204.148397379139\n",
      "2361.9346405228757\n"
     ]
    }
   ],
   "source": [
    "# Task 3(b): Calculating the sample mean of premium and non-premium computers\n",
    "prem_yes_samp_mean = data_prem_yes_filter[\"price\"].mean()\n",
    "print(prem_yes_samp_mean)\n",
    "prem_no_samp_mean = data_prem_no_filter[\"price\"].mean()\n",
    "print(prem_no_samp_mean)"
   ]
  },
  {
   "cell_type": "code",
   "execution_count": 24,
   "id": "ed967c60-4888-448f-ad05-b096b10d8c05",
   "metadata": {},
   "outputs": [
    {
     "name": "stdout",
     "output_type": "stream",
     "text": [
      "325407.3906558618\n",
      "425588.2608602636\n"
     ]
    }
   ],
   "source": [
    "# Task 3(b): Calculating the sample variance of premium and non-premium computers\n",
    "prem_yes_samp_var = data_prem_yes_filter[\"price\"].std()**2  #sigma**2\n",
    "print(prem_yes_samp_var)\n",
    "prem_no_samp_var = data_prem_no_filter[\"price\"].std()**2\n",
    "print(prem_no_samp_var)"
   ]
  },
  {
   "cell_type": "code",
   "execution_count": 25,
   "id": "b4f63387-7837-47c9-a718-396570264f37",
   "metadata": {},
   "outputs": [],
   "source": [
    "# Task 3(b): Population average is not given, but we know that two samples belong to the sample population.\n",
    "# mu1 - mu2 = 0"
   ]
  },
  {
   "cell_type": "code",
   "execution_count": 26,
   "id": "252852de-3b37-4837-9d0e-6625f2fee7fd",
   "metadata": {},
   "outputs": [
    {
     "name": "stdout",
     "output_type": "stream",
     "text": [
      "-5.749933977428078\n"
     ]
    }
   ],
   "source": [
    "# Task 3(b): Calculating the z-statistic\n",
    "prem_comp_z_stats = ((prem_yes_samp_mean - prem_no_samp_mean) - 0) / ((prem_yes_samp_var / n1) + (prem_no_samp_var / n2))**0.5\n",
    "print(prem_comp_z_stats)"
   ]
  },
  {
   "cell_type": "code",
   "execution_count": 27,
   "id": "b50d0f81-2c8b-45e9-8f5e-3bf3013a7849",
   "metadata": {},
   "outputs": [
    {
     "data": {
      "text/plain": [
       "1.6448536269514722"
      ]
     },
     "execution_count": 27,
     "metadata": {},
     "output_type": "execute_result"
    }
   ],
   "source": [
    "# Task 3(b): Calculating the z-critical value\n",
    "prem_comp_z_crit = norm.ppf(1 - prem_comp_alpha)\n",
    "prem_comp_z_crit"
   ]
  },
  {
   "cell_type": "code",
   "execution_count": 28,
   "id": "65490067-021e-499f-933e-4d66d2ca3f9a",
   "metadata": {},
   "outputs": [
    {
     "data": {
      "text/plain": [
       "4.4639152809361965e-09"
      ]
     },
     "execution_count": 28,
     "metadata": {},
     "output_type": "execute_result"
    }
   ],
   "source": [
    "# Task 3(b): Calculating the p-value\n",
    "prem_comp_p_value = norm.sf(abs(prem_comp_z_stats))\n",
    "prem_comp_p_value"
   ]
  },
  {
   "cell_type": "code",
   "execution_count": 29,
   "id": "a9aa5884-40e2-4f82-8046-0d84d701062a",
   "metadata": {},
   "outputs": [
    {
     "name": "stdout",
     "output_type": "stream",
     "text": [
      "True\n",
      "True\n",
      "Conclusion: Since p-value < alpha and z-statistic < z-critical in a two-tailed z-test, and there is a significant difference in the sample mean, we reject the null hypothesis and accept that there is a statistically significant change (accept H_a).\n",
      "Business Conclusion: There is a statistically significant difference in the mean price of premium and non-premium computers.\n"
     ]
    }
   ],
   "source": [
    "# Task 3(b): Draw a conclusion to determine whether we accept or reject the null hypothesis (Check the conditions)\n",
    "print(prem_comp_p_value < prem_comp_alpha)\n",
    "print(prem_comp_z_stats < prem_comp_z_crit)\n",
    "print(\"Conclusion: Since p-value < alpha and z-statistic < z-critical in a two-tailed z-test, and there is a significant difference in the sample mean, we reject the null hypothesis and accept that there is a statistically significant change (accept H_a).\")\n",
    "print(\"Business Conclusion: There is a statistically significant difference in the mean price of premium and non-premium computers.\")"
   ]
  },
  {
   "cell_type": "code",
   "execution_count": null,
   "id": "b0bb940f-a621-40a3-81e6-7e0a1e833de5",
   "metadata": {},
   "outputs": [],
   "source": []
  }
 ],
 "metadata": {
  "kernelspec": {
   "display_name": "Python [conda env:Renaissa_anaconda3_python]",
   "language": "python",
   "name": "conda-env-Renaissa_anaconda3_python-py"
  },
  "language_info": {
   "codemirror_mode": {
    "name": "ipython",
    "version": 3
   },
   "file_extension": ".py",
   "mimetype": "text/x-python",
   "name": "python",
   "nbconvert_exporter": "python",
   "pygments_lexer": "ipython3",
   "version": "3.12.7"
  }
 },
 "nbformat": 4,
 "nbformat_minor": 5
}
